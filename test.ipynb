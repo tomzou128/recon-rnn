{
 "cells": [
  {
   "cell_type": "code",
   "execution_count": 1,
   "metadata": {
    "collapsed": true
   },
   "outputs": [],
   "source": [
    "import torch\n",
    "import numpy as np\n",
    "import os\n",
    "import cv2\n",
    "import kornia\n",
    "import matplotlib.pyplot as plt\n",
    "from models.convlstm import warp_frame_depth\n",
    "from tools.evaluation_utils import eval_depth"
   ]
  },
  {
   "cell_type": "code",
   "execution_count": 2,
   "outputs": [],
   "source": [
    "def read_pred_depth(filepath):\n",
    "    pred_depth = np.load(filepath).astype(np.float32)\n",
    "    pred_depth /= 1000.\n",
    "    return pred_depth\n",
    "\n",
    "def read_gt_depth(filepath):\n",
    "    # Read depth image and camera pose\n",
    "    gt_depth = cv2.imread(filepath, -1).astype(np.float32)\n",
    "    gt_depth = cv2.resize(gt_depth, (256, 192), cv2.INTER_NEAREST)\n",
    "    gt_depth /= 1000.  # depth is saved in 16-bit PNG in millimeters\n",
    "    return gt_depth"
   ],
   "metadata": {
    "collapsed": false
   }
  },
  {
   "cell_type": "code",
   "execution_count": 104,
   "outputs": [
    {
     "name": "stdout",
     "output_type": "stream",
     "text": [
      "{'AbsRel': 0.0983399, 'AbsDiff': 0.056413088, 'SqRel': 0.11467976, 'RMSE': 0.20478077, 'LogRMSE': 0.22377816, 'r5': 0.9451116873663619, 'r10': 0.9533915654428825, 'r1': 0.963445703107229, 'r2': 0.9757062917974615, 'r3': 0.9793457986442837, 'complete': 1.0}\n",
      "{'AbsRel': 0.279728, 'AbsDiff': 0.32170552, 'SqRel': 0.23043087, 'RMSE': 0.4442668, 'LogRMSE': 0.34905425, 'r5': 0.22139575087575633, 'r10': 0.42441199217506026, 'r1': 0.6453300577771712, 'r2': 0.8784632182339293, 'r3': 0.9380146490150585, 'complete': 1.0}\n"
     ]
    }
   ],
   "source": [
    "idx = 180\n",
    "scan = \"scene0628_01\"\n",
    "old_pred_path = f\"F:/D/ScanNetv1/scans/{scan}/sr_pred_depth/{idx}_pred_depth.npy\"\n",
    "pred_path = f\"F:/P/ML/Project/simplerecon/OUTPUT_PATH/HERO_MODEL/scannetv1/default/viz/quick_viz/{scan}/{idx}_pred_depth.npy\"\n",
    "gt_path = f\"F:/D/ScanNetv1/scans/{scan}/depth/{idx}.png\"\n",
    "old_pred_depth = read_pred_depth(old_pred_path)\n",
    "pred_depth = read_pred_depth(pred_path)\n",
    "gt_depth = read_gt_depth(gt_path)\n",
    "\n",
    "print(eval_depth(old_pred_depth, gt_depth))\n",
    "print(eval_depth(pred_depth, gt_depth))"
   ],
   "metadata": {
    "collapsed": false
   }
  },
  {
   "cell_type": "code",
   "execution_count": 96,
   "outputs": [
    {
     "data": {
      "text/plain": "array([2.069, 2.074, 2.078, ..., 1.523, 1.522, 1.522], dtype=float32)"
     },
     "execution_count": 96,
     "metadata": {},
     "output_type": "execute_result"
    }
   ],
   "source": [
    "mask = gt_depth > 0.25\n",
    "old_pred_depth[mask]"
   ],
   "metadata": {
    "collapsed": false
   }
  },
  {
   "cell_type": "code",
   "execution_count": 97,
   "outputs": [
    {
     "data": {
      "text/plain": "array([2.072, 2.076, 2.08 , ..., 1.524, 1.523, 1.522], dtype=float32)"
     },
     "execution_count": 97,
     "metadata": {},
     "output_type": "execute_result"
    }
   ],
   "source": [
    "pred_depth[mask]"
   ],
   "metadata": {
    "collapsed": false
   }
  },
  {
   "cell_type": "code",
   "execution_count": 98,
   "outputs": [
    {
     "data": {
      "text/plain": "array([0.5093125, 0.511125 , 0.5145   , ..., 1.52325  , 1.5248125,\n       1.5255625], dtype=float32)"
     },
     "execution_count": 98,
     "metadata": {},
     "output_type": "execute_result"
    }
   ],
   "source": [
    "gt_depth[mask]"
   ],
   "metadata": {
    "collapsed": false
   }
  },
  {
   "cell_type": "code",
   "execution_count": 100,
   "outputs": [
    {
     "data": {
      "text/plain": "43869"
     },
     "execution_count": 100,
     "metadata": {},
     "output_type": "execute_result"
    }
   ],
   "source": [
    "mask.sum()"
   ],
   "metadata": {
    "collapsed": false
   }
  }
 ],
 "metadata": {
  "kernelspec": {
   "display_name": "Python 3",
   "language": "python",
   "name": "python3"
  },
  "language_info": {
   "codemirror_mode": {
    "name": "ipython",
    "version": 2
   },
   "file_extension": ".py",
   "mimetype": "text/x-python",
   "name": "python",
   "nbconvert_exporter": "python",
   "pygments_lexer": "ipython2",
   "version": "2.7.6"
  }
 },
 "nbformat": 4,
 "nbformat_minor": 0
}
